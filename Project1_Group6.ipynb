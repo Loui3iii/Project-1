{
 "cells": [
  {
   "cell_type": "code",
   "execution_count": 1,
   "id": "8557aee9",
   "metadata": {},
   "outputs": [],
   "source": [
    "# Dependencies and Setup\n",
    "import pandas as pd\n",
    "import matplotlib.pyplot as plt\n",
    "df=pd.read_csv(\"./bankloans.csv\")\n",
    "df=df.dropna(axis=0)\n",
    "\n",
    "\n",
    "# Study data files\n",
    "\n",
    "# Read the data and the study results\n",
    "\n",
    "# Display the data table for preview\n"
   ]
  },
  {
   "cell_type": "code",
   "execution_count": 2,
   "id": "73a87d6e",
   "metadata": {},
   "outputs": [],
   "source": [
    "# Create the X and Y axis lists"
   ]
  },
  {
   "cell_type": "code",
   "execution_count": 3,
   "id": "0a070416",
   "metadata": {},
   "outputs": [],
   "source": [
    "# Plot the charts"
   ]
  },
  {
   "cell_type": "code",
   "execution_count": 4,
   "id": "29958bbd",
   "metadata": {},
   "outputs": [],
   "source": [
    "# Add labels to X and Y axes :: Add title"
   ]
  },
  {
   "cell_type": "code",
   "execution_count": 5,
   "id": "14e6e91b",
   "metadata": {},
   "outputs": [],
   "source": [
    "# Set the limits for the X and Y axes"
   ]
  },
  {
   "cell_type": "code",
   "execution_count": 6,
   "id": "ee754089",
   "metadata": {},
   "outputs": [
    {
     "data": {
      "text/html": [
       "<div>\n",
       "<style scoped>\n",
       "    .dataframe tbody tr th:only-of-type {\n",
       "        vertical-align: middle;\n",
       "    }\n",
       "\n",
       "    .dataframe tbody tr th {\n",
       "        vertical-align: top;\n",
       "    }\n",
       "\n",
       "    .dataframe thead th {\n",
       "        text-align: right;\n",
       "    }\n",
       "</style>\n",
       "<table border=\"1\" class=\"dataframe\">\n",
       "  <thead>\n",
       "    <tr style=\"text-align: right;\">\n",
       "      <th></th>\n",
       "      <th>age</th>\n",
       "      <th>ed</th>\n",
       "      <th>employ</th>\n",
       "      <th>address</th>\n",
       "      <th>income</th>\n",
       "      <th>debtinc</th>\n",
       "      <th>creddebt</th>\n",
       "      <th>othdebt</th>\n",
       "      <th>default</th>\n",
       "    </tr>\n",
       "  </thead>\n",
       "  <tbody>\n",
       "    <tr>\n",
       "      <th>0</th>\n",
       "      <td>41</td>\n",
       "      <td>3</td>\n",
       "      <td>17</td>\n",
       "      <td>12</td>\n",
       "      <td>176</td>\n",
       "      <td>9.3</td>\n",
       "      <td>11.359392</td>\n",
       "      <td>5.008608</td>\n",
       "      <td>1.0</td>\n",
       "    </tr>\n",
       "    <tr>\n",
       "      <th>1</th>\n",
       "      <td>27</td>\n",
       "      <td>1</td>\n",
       "      <td>10</td>\n",
       "      <td>6</td>\n",
       "      <td>31</td>\n",
       "      <td>17.3</td>\n",
       "      <td>1.362202</td>\n",
       "      <td>4.000798</td>\n",
       "      <td>0.0</td>\n",
       "    </tr>\n",
       "    <tr>\n",
       "      <th>2</th>\n",
       "      <td>40</td>\n",
       "      <td>1</td>\n",
       "      <td>15</td>\n",
       "      <td>14</td>\n",
       "      <td>55</td>\n",
       "      <td>5.5</td>\n",
       "      <td>0.856075</td>\n",
       "      <td>2.168925</td>\n",
       "      <td>0.0</td>\n",
       "    </tr>\n",
       "    <tr>\n",
       "      <th>3</th>\n",
       "      <td>41</td>\n",
       "      <td>1</td>\n",
       "      <td>15</td>\n",
       "      <td>14</td>\n",
       "      <td>120</td>\n",
       "      <td>2.9</td>\n",
       "      <td>2.658720</td>\n",
       "      <td>0.821280</td>\n",
       "      <td>0.0</td>\n",
       "    </tr>\n",
       "    <tr>\n",
       "      <th>4</th>\n",
       "      <td>24</td>\n",
       "      <td>2</td>\n",
       "      <td>2</td>\n",
       "      <td>0</td>\n",
       "      <td>28</td>\n",
       "      <td>17.3</td>\n",
       "      <td>1.787436</td>\n",
       "      <td>3.056564</td>\n",
       "      <td>1.0</td>\n",
       "    </tr>\n",
       "  </tbody>\n",
       "</table>\n",
       "</div>"
      ],
      "text/plain": [
       "   age  ed  employ  address  income  debtinc   creddebt   othdebt  default\n",
       "0   41   3      17       12     176      9.3  11.359392  5.008608      1.0\n",
       "1   27   1      10        6      31     17.3   1.362202  4.000798      0.0\n",
       "2   40   1      15       14      55      5.5   0.856075  2.168925      0.0\n",
       "3   41   1      15       14     120      2.9   2.658720  0.821280      0.0\n",
       "4   24   2       2        0      28     17.3   1.787436  3.056564      1.0"
      ]
     },
     "execution_count": 6,
     "metadata": {},
     "output_type": "execute_result"
    }
   ],
   "source": [
    "bankloan_df = pd.read_csv(\"C:\\\\Users\\\\Karen Leswing\\\\Desktop\\\\github\\\\Project-1\\\\bankloans.csv\")\n",
    "bankloan_df.head()"
   ]
  },
  {
   "cell_type": "code",
   "execution_count": 7,
   "id": "42675400",
   "metadata": {},
   "outputs": [
    {
     "data": {
      "text/plain": [
       "age         700\n",
       "ed          700\n",
       "employ      700\n",
       "address     700\n",
       "income      700\n",
       "debtinc     700\n",
       "creddebt    700\n",
       "othdebt     700\n",
       "default     700\n",
       "dtype: int64"
      ]
     },
     "execution_count": 7,
     "metadata": {},
     "output_type": "execute_result"
    }
   ],
   "source": [
    "bankloan_clean= bankloan_df.dropna()\n",
    "bankloan_clean.count()"
   ]
  },
  {
   "cell_type": "code",
   "execution_count": 8,
   "id": "2492672f",
   "metadata": {},
   "outputs": [
    {
     "data": {
      "text/html": [
       "<div>\n",
       "<style scoped>\n",
       "    .dataframe tbody tr th:only-of-type {\n",
       "        vertical-align: middle;\n",
       "    }\n",
       "\n",
       "    .dataframe tbody tr th {\n",
       "        vertical-align: top;\n",
       "    }\n",
       "\n",
       "    .dataframe thead th {\n",
       "        text-align: right;\n",
       "    }\n",
       "</style>\n",
       "<table border=\"1\" class=\"dataframe\">\n",
       "  <thead>\n",
       "    <tr style=\"text-align: right;\">\n",
       "      <th></th>\n",
       "      <th>age</th>\n",
       "      <th>ed</th>\n",
       "      <th>employ</th>\n",
       "      <th>address</th>\n",
       "      <th>income</th>\n",
       "      <th>debtinc</th>\n",
       "      <th>creddebt</th>\n",
       "      <th>othdebt</th>\n",
       "      <th>default</th>\n",
       "    </tr>\n",
       "  </thead>\n",
       "  <tbody>\n",
       "    <tr>\n",
       "      <th>300</th>\n",
       "      <td>47</td>\n",
       "      <td>1</td>\n",
       "      <td>29</td>\n",
       "      <td>18</td>\n",
       "      <td>129</td>\n",
       "      <td>25.3</td>\n",
       "      <td>20.561310</td>\n",
       "      <td>12.075690</td>\n",
       "      <td>1.0</td>\n",
       "    </tr>\n",
       "    <tr>\n",
       "      <th>444</th>\n",
       "      <td>43</td>\n",
       "      <td>4</td>\n",
       "      <td>18</td>\n",
       "      <td>14</td>\n",
       "      <td>446</td>\n",
       "      <td>6.5</td>\n",
       "      <td>16.031470</td>\n",
       "      <td>12.958530</td>\n",
       "      <td>1.0</td>\n",
       "    </tr>\n",
       "    <tr>\n",
       "      <th>466</th>\n",
       "      <td>47</td>\n",
       "      <td>3</td>\n",
       "      <td>16</td>\n",
       "      <td>26</td>\n",
       "      <td>221</td>\n",
       "      <td>17.6</td>\n",
       "      <td>15.791776</td>\n",
       "      <td>23.104224</td>\n",
       "      <td>1.0</td>\n",
       "    </tr>\n",
       "    <tr>\n",
       "      <th>373</th>\n",
       "      <td>33</td>\n",
       "      <td>1</td>\n",
       "      <td>14</td>\n",
       "      <td>8</td>\n",
       "      <td>72</td>\n",
       "      <td>41.3</td>\n",
       "      <td>15.016680</td>\n",
       "      <td>14.719320</td>\n",
       "      <td>1.0</td>\n",
       "    </tr>\n",
       "    <tr>\n",
       "      <th>325</th>\n",
       "      <td>54</td>\n",
       "      <td>1</td>\n",
       "      <td>25</td>\n",
       "      <td>12</td>\n",
       "      <td>120</td>\n",
       "      <td>26.5</td>\n",
       "      <td>14.596200</td>\n",
       "      <td>17.203800</td>\n",
       "      <td>1.0</td>\n",
       "    </tr>\n",
       "  </tbody>\n",
       "</table>\n",
       "</div>"
      ],
      "text/plain": [
       "     age  ed  employ  address  income  debtinc   creddebt    othdebt  default\n",
       "300   47   1      29       18     129     25.3  20.561310  12.075690      1.0\n",
       "444   43   4      18       14     446      6.5  16.031470  12.958530      1.0\n",
       "466   47   3      16       26     221     17.6  15.791776  23.104224      1.0\n",
       "373   33   1      14        8      72     41.3  15.016680  14.719320      1.0\n",
       "325   54   1      25       12     120     26.5  14.596200  17.203800      1.0"
      ]
     },
     "execution_count": 8,
     "metadata": {},
     "output_type": "execute_result"
    }
   ],
   "source": [
    "default_credit_debt = bankloan_clean.sort_values(by= \"creddebt\", ascending=False)\n",
    "default_credit_debt.head()"
   ]
  },
  {
   "cell_type": "code",
   "execution_count": 9,
   "id": "eb41c1d5",
   "metadata": {},
   "outputs": [
    {
     "data": {
      "text/html": [
       "<div>\n",
       "<style scoped>\n",
       "    .dataframe tbody tr th:only-of-type {\n",
       "        vertical-align: middle;\n",
       "    }\n",
       "\n",
       "    .dataframe tbody tr th {\n",
       "        vertical-align: top;\n",
       "    }\n",
       "\n",
       "    .dataframe thead th {\n",
       "        text-align: right;\n",
       "    }\n",
       "</style>\n",
       "<table border=\"1\" class=\"dataframe\">\n",
       "  <thead>\n",
       "    <tr style=\"text-align: right;\">\n",
       "      <th></th>\n",
       "      <th>age</th>\n",
       "      <th>ed</th>\n",
       "      <th>employ</th>\n",
       "      <th>address</th>\n",
       "      <th>income</th>\n",
       "      <th>debtinc</th>\n",
       "      <th>creddebt</th>\n",
       "      <th>othdebt</th>\n",
       "      <th>default</th>\n",
       "    </tr>\n",
       "  </thead>\n",
       "  <tbody>\n",
       "    <tr>\n",
       "      <th>343</th>\n",
       "      <td>40</td>\n",
       "      <td>3</td>\n",
       "      <td>5</td>\n",
       "      <td>3</td>\n",
       "      <td>220</td>\n",
       "      <td>16.0</td>\n",
       "      <td>8.166400</td>\n",
       "      <td>27.033600</td>\n",
       "      <td>1.0</td>\n",
       "    </tr>\n",
       "    <tr>\n",
       "      <th>466</th>\n",
       "      <td>47</td>\n",
       "      <td>3</td>\n",
       "      <td>16</td>\n",
       "      <td>26</td>\n",
       "      <td>221</td>\n",
       "      <td>17.6</td>\n",
       "      <td>15.791776</td>\n",
       "      <td>23.104224</td>\n",
       "      <td>1.0</td>\n",
       "    </tr>\n",
       "    <tr>\n",
       "      <th>491</th>\n",
       "      <td>41</td>\n",
       "      <td>3</td>\n",
       "      <td>13</td>\n",
       "      <td>13</td>\n",
       "      <td>91</td>\n",
       "      <td>25.2</td>\n",
       "      <td>2.316132</td>\n",
       "      <td>20.615868</td>\n",
       "      <td>1.0</td>\n",
       "    </tr>\n",
       "    <tr>\n",
       "      <th>478</th>\n",
       "      <td>51</td>\n",
       "      <td>2</td>\n",
       "      <td>27</td>\n",
       "      <td>21</td>\n",
       "      <td>166</td>\n",
       "      <td>11.5</td>\n",
       "      <td>0.820870</td>\n",
       "      <td>18.269130</td>\n",
       "      <td>0.0</td>\n",
       "    </tr>\n",
       "    <tr>\n",
       "      <th>547</th>\n",
       "      <td>37</td>\n",
       "      <td>4</td>\n",
       "      <td>10</td>\n",
       "      <td>18</td>\n",
       "      <td>123</td>\n",
       "      <td>17.3</td>\n",
       "      <td>3.021618</td>\n",
       "      <td>18.257382</td>\n",
       "      <td>0.0</td>\n",
       "    </tr>\n",
       "  </tbody>\n",
       "</table>\n",
       "</div>"
      ],
      "text/plain": [
       "     age  ed  employ  address  income  debtinc   creddebt    othdebt  default\n",
       "343   40   3       5        3     220     16.0   8.166400  27.033600      1.0\n",
       "466   47   3      16       26     221     17.6  15.791776  23.104224      1.0\n",
       "491   41   3      13       13      91     25.2   2.316132  20.615868      1.0\n",
       "478   51   2      27       21     166     11.5   0.820870  18.269130      0.0\n",
       "547   37   4      10       18     123     17.3   3.021618  18.257382      0.0"
      ]
     },
     "execution_count": 9,
     "metadata": {},
     "output_type": "execute_result"
    }
   ],
   "source": [
    "default_other_debt = bankloan_clean.sort_values(by= \"othdebt\", ascending=False)\n",
    "default_other_debt.head()"
   ]
  },
  {
   "cell_type": "code",
   "execution_count": 10,
   "id": "9412f522",
   "metadata": {},
   "outputs": [
    {
     "name": "stdout",
     "output_type": "stream",
     "text": [
      "     age  ed  employ  address  income  debtinc   creddebt   othdebt  default\n",
      "0     41   3      17       12     176      9.3  11.359392  5.008608      1.0\n",
      "4     24   2       2        0      28     17.3   1.787436  3.056564      1.0\n",
      "8     24   1       3        4      19     24.4   1.358348  3.277652      1.0\n",
      "15    36   2       9        6      49      8.6   0.817516  3.396484      1.0\n",
      "16    36   2      13        6      41     16.4   2.918216  3.805784      1.0\n",
      "..   ...  ..     ...      ...     ...      ...        ...       ...      ...\n",
      "681   20   1       4        0      14      9.7   0.200984  1.157016      1.0\n",
      "685   35   1       7        5      39     16.1   1.701609  4.577391      1.0\n",
      "687   34   1      10        1      33     10.3   2.501664  0.897336      1.0\n",
      "692   53   1       0       26      27     28.9   2.754459  5.048541      1.0\n",
      "695   36   2       6       15      27      4.6   0.262062  0.979938      1.0\n",
      "\n",
      "[183 rows x 9 columns]\n"
     ]
    }
   ],
   "source": [
    "all_default = bankloan_clean.loc[bankloan_clean[\"default\"] == 1 ]\n",
    "print(all_default)"
   ]
  },
  {
   "cell_type": "code",
   "execution_count": 11,
   "id": "0d48d1f6",
   "metadata": {},
   "outputs": [
    {
     "data": {
      "text/plain": [
       "age_range\n",
       "<25      40.0\n",
       "25-30    46.0\n",
       "30-35    35.0\n",
       "35-40    26.0\n",
       "40-45    15.0\n",
       ">45      21.0\n",
       "Name: default, dtype: float64"
      ]
     },
     "execution_count": 11,
     "metadata": {},
     "output_type": "execute_result"
    }
   ],
   "source": [
    "age_ranges = [0, 25, 30, 35, 40, 45, float('inf')]\n",
    "age_labels = ['<25', '25-30', '30-35', '35-40', '40-45', '>45']\n",
    "\n",
    "# Categorizing the data into age ranges\n",
    "df['age_range'] = pd.cut(df['age'], bins=age_ranges, labels=age_labels)\n",
    "\n",
    "# Calculating the number of defaults in each age range\n",
    "default_ages = df.groupby('age_range')['default'].sum()\n",
    "default_ages\n",
    "# Calculating the total number of entries in each age range\n",
    "# total_by_age_range = df.groupby('age_range').size()\n",
    "# total_by_age_range"
   ]
  },
  {
   "cell_type": "code",
   "execution_count": 12,
   "id": "04d7c518",
   "metadata": {},
   "outputs": [
    {
     "data": {
      "text/plain": [
       "age_group\n",
       "genz    40.0\n",
       "mill    81.0\n",
       "genx    41.0\n",
       "boom    21.0\n",
       "Name: default, dtype: float64"
      ]
     },
     "execution_count": 12,
     "metadata": {},
     "output_type": "execute_result"
    }
   ],
   "source": [
    "age_ranges = [0, 25, 35, 45, float('inf')]\n",
    "labels = ['genz', 'mill', 'genx', 'boom']\n",
    "\n",
    "# Categorizing the data into age groups\n",
    "df['age_group'] = pd.cut(df['age'], bins=age_ranges, labels=labels)\n",
    "\n",
    "# Step 2: Calculate the average debtinc for each age group\n",
    "all_default = df.groupby('age_group')['default'].sum()\n",
    "all_default\n"
   ]
  },
  {
   "cell_type": "code",
   "execution_count": 13,
   "id": "481f5165",
   "metadata": {},
   "outputs": [
    {
     "data": {
      "image/png": "[encoded data removed]",
      "text/plain": [
       "<Figure size 640x480 with 1 Axes>"
      ]
     },
     "metadata": {},
     "output_type": "display_data"
    }
   ],
   "source": [
    "all_default.plot(kind=\"bar\", rot=45, xlabel=\"Age Group\", ylabel=\"Number of Defaults\", title=\"Number of Defaults by Age Group\")\n",
    "plt.savefig('chart.png', format='png')\n",
    "# Show the plot\n",
    "plt.show()"
   ]
  },
  {
   "cell_type": "code",
   "execution_count": 14,
   "id": "fda81613",
   "metadata": {},
   "outputs": [
    {
     "data": {
      "image/png": "[encoded data removed]",
      "text/plain": [
       "<Figure size 640x480 with 1 Axes>"
      ]
     },
     "metadata": {},
     "output_type": "display_data"
    }
   ],
   "source": [
    "all_default.plot(kind=\"line\", marker=\"o\", linestyle=\"-\", xlabel=\"Age Group\", ylabel=\"Number of Defaults\", title=\"Number of Defaults by Age Group\")\n",
    "plt.savefig('chart.png', format='png')\n"
   ]
  }
 ],
 "metadata": {
  "kernelspec": {
   "display_name": "Python 3 (ipykernel)",
   "language": "python",
   "name": "python3"
  },
  "language_info": {
   "codemirror_mode": {
    "name": "ipython",
    "version": 3
   },
   "file_extension": ".py",
   "mimetype": "text/x-python",
   "name": "python",
   "nbconvert_exporter": "python",
   "pygments_lexer": "ipython3",
   "version": "3.10.9"
  }
 },
 "nbformat": 4,
 "nbformat_minor": 5
}
