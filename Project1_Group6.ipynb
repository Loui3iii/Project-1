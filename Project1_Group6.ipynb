{
 "cells": [
  {
   "cell_type": "code",
   "execution_count": null,
   "id": "8557aee9",
   "metadata": {},
   "outputs": [],
   "source": [
    "# Dependencies and Setup\n",
    "import matplotlib.pyplot as plt\n",
    "import pandas as pd\n",
    "import numpy as np\n",
    "\n",
    "# Study data files\n",
    "\n",
    "# Read the data and the study results\n",
    "\n",
    "# Display the data table for preview\n"
   ]
  },
  {
   "cell_type": "code",
   "execution_count": null,
   "id": "73a87d6e",
   "metadata": {},
   "outputs": [],
   "source": [
    "# Create the X and Y axis lists"
   ]
  },
  {
   "cell_type": "code",
   "execution_count": null,
   "id": "0a070416",
   "metadata": {},
   "outputs": [],
   "source": [
    "# Plot the charts"
   ]
  },
  {
   "cell_type": "code",
   "execution_count": null,
   "id": "29958bbd",
   "metadata": {},
   "outputs": [],
   "source": [
    "# Add labels to X and Y axes :: Add title"
   ]
  },
  {
   "cell_type": "code",
   "execution_count": null,
   "id": "14e6e91b",
   "metadata": {},
   "outputs": [],
   "source": [
    "# Set the limits for the X and Y axes"
   ]
  }
 ],
 "metadata": {
  "kernelspec": {
   "display_name": "Python 3 (ipykernel)",
   "language": "python",
   "name": "python3"
  },
  "language_info": {
   "codemirror_mode": {
    "name": "ipython",
    "version": 3
   },
   "file_extension": ".py",
   "mimetype": "text/x-python",
   "name": "python",
   "nbconvert_exporter": "python",
   "pygments_lexer": "ipython3",
   "version": "3.11.3"
  }
 },
 "nbformat": 4,
 "nbformat_minor": 5
}
